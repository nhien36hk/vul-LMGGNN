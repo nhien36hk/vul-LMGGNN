{
  "cells": [
    {
      "cell_type": "code",
      "execution_count": null,
      "metadata": {},
      "outputs": [],
      "source": [
        "# Install minimal dependencies (Kaggle already has most libs)\n",
        "!pip -q install --no-input --upgrade pip\n",
        "!pip -q install --no-input tqdm seaborn torch-geometric gensim\n",
        "\n"
      ]
    },
    {
      "cell_type": "code",
      "execution_count": null,
      "metadata": {},
      "outputs": [],
      "source": [
        "# If this repo is in Kaggle dataset, skip cloning. Otherwise, clone your repo.\n",
        "# Example:\n",
        "# !git clone https://github.com/your/repo.git\n",
        "# %cd /kaggle/working/repo\n",
        "\n",
        "# Ensure working dir is project root if needed\n",
        "import os\n",
        "print(os.getcwd())\n"
      ]
    },
    {
      "cell_type": "code",
      "execution_count": null,
      "metadata": {},
      "outputs": [],
      "source": [
        "# Run training using train.py helper\n",
        "from train import run_kaggle_train\n",
        "\n",
        "# Configure paths (adjust input_dir to your dataset mounting point)\n",
        "run_kaggle_train(\n",
        "    input_dir='/kaggle/input/lm-train/LMTrain/data/input/',\n",
        "    output_model_dir='/kaggle/working/trained_models/',\n",
        "    model_filename='bertggcn.pt',\n",
        "    random_state=42,\n",
        "    figure_save_path='/kaggle/working/figures/'\n",
        ")\n",
        "\n"
      ]
    }
  ],
  "metadata": {
    "language_info": {
      "name": "python"
    }
  },
  "nbformat": 4,
  "nbformat_minor": 2
}
